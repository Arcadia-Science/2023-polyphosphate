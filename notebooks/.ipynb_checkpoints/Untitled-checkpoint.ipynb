{
 "cells": [
  {
   "cell_type": "code",
   "execution_count": 2,
   "id": "83f0b057-54d0-4737-8f55-9818caa10075",
   "metadata": {
    "tags": []
   },
   "outputs": [],
   "source": [
    "from Bio.PDB import CEAligner\n",
    "import os\n",
    "from Bio.PDB import PDBParser, Selection, cealign\n",
    "import numpy as np\n",
    "import py3Dmol\n",
    "from Bio.PDB import PDBIO"
   ]
  },
  {
   "cell_type": "code",
   "execution_count": 4,
   "id": "35960ec5-d336-4f1c-925a-9f6a3e7b21d7",
   "metadata": {
    "tags": []
   },
   "outputs": [],
   "source": [
    "def plot_structure_pair(file1: str, file2: str, \n",
    "                        color1 = 'red', color2 = 'blue',\n",
    "                        width = 800, height = 600, style = 'cartoon',\n",
    "                        label_dict = {}):\n",
    "    \n",
    "    #get filepath from pdb name\n",
    "    pdb1_filename = file1\n",
    "    pdb2_filename = file2\n",
    "    \n",
    "    # Load the PDB files\n",
    "    pdb1 = PDBParser().get_structure('pdb1', pdb1_filename)\n",
    "    pdb2 = PDBParser().get_structure('pdb2', pdb2_filename)\n",
    "    \n",
    "    #align the structures with cealigner\n",
    "    aligner=CEAligner()\n",
    "    aligner.set_reference(pdb1)\n",
    "    aligner.align(pdb2, transform=True)\n",
    "    \n",
    "    print(f\"RMSD: {aligner.rms: .2f}\")\n",
    "    \n",
    "    io = PDBIO()\n",
    "    io.set_structure(pdb2)\n",
    "    io.save('aligned_structure2.pdb')\n",
    "    io.set_structure(pdb1)\n",
    "    io.save('reference_structure2.pdb')\n",
    "\n",
    "    # Initialize the view object\n",
    "    view = py3Dmol.view(width=width, height=height)\n",
    "    \n",
    "    # Load the PDB fils\n",
    "    with open('reference_structure2.pdb', 'r') as f:\n",
    "        pdb_data1 = f.read()\n",
    "    with open('aligned_structure2.pdb', 'r') as f:\n",
    "        pdb_data2 = f.read()\n",
    "    view = py3Dmol.view(width=width, height=height)\n",
    "    view.addModel(pdb_data1, 'pdb')\n",
    "    view.addModel(pdb_data2, 'pdb')\n",
    "    \n",
    "    if style == 'cartoon' or style == 'stick':\n",
    "        view.setStyle({'model': 0}, {style: {'color': color1}})\n",
    "        view.setStyle({'model': 1}, {style: {'color': color2}})\n",
    "    else:\n",
    "        raise Exception('Must choose \"cartoon\" or \"stick\" as style.')\n",
    "        \n",
    "    if label_dict != {}:\n",
    "        label1 = label_dict[file1]\n",
    "        label2 = label_dict[file2]\n",
    "    else:\n",
    "        label1 = os.path.basename(file1)\n",
    "        label2 = os.path.basename(file2)\n",
    "    \n",
    "    view.addLabel(label1, {'backgroundColor': 'white', \n",
    "                           'backgroundOpacity': 0.1, \n",
    "                           'fontColor': color1, \n",
    "                           'useScreen': True, \n",
    "                           'position': {'x': 0, 'y': 10, 'z': 0}})\n",
    "    view.addLabel(label2, {'backgroundColor': 'white', \n",
    "                           'backgroundOpacity': 0.1, \n",
    "                           'fontColor': color2, \n",
    "                           'useScreen': True, \n",
    "                           'position': {'x': 0, 'y': 30, 'z': 0}})\n",
    "    view.zoomTo()\n",
    "    return view.show()"
   ]
  },
  {
   "cell_type": "code",
   "execution_count": null,
   "id": "33084f48-9c4f-46b0-8ca3-e3c8e092116f",
   "metadata": {},
   "outputs": [],
   "source": [
    "plot_structure_pair"
   ]
  }
 ],
 "metadata": {
  "kernelspec": {
   "display_name": "Python 3 (ipykernel)",
   "language": "python",
   "name": "python3"
  },
  "language_info": {
   "codemirror_mode": {
    "name": "ipython",
    "version": 3
   },
   "file_extension": ".py",
   "mimetype": "text/x-python",
   "name": "python",
   "nbconvert_exporter": "python",
   "pygments_lexer": "ipython3",
   "version": "3.11.2"
  }
 },
 "nbformat": 4,
 "nbformat_minor": 5
}
